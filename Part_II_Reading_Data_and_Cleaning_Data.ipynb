{
 "cells": [
  {
   "cell_type": "markdown",
   "id": "76eeea75",
   "metadata": {},
   "source": [
    "<h1>Reading and Cleaning Data</h1>\n",
    "<p>In this section we will discuss how to import files into python and how to clean and modify these files. A key point to reading files is to remember that the directory you are working in matters.</p>"
   ]
  },
  {
   "cell_type": "code",
   "execution_count": null,
   "id": "8a6ac75e-b9d5-4eb9-9da6-0e62d9cdd4cb",
   "metadata": {},
   "outputs": [],
   "source": [
    "#calling a library\n",
    "\n",
    "import pandas as pd\n",
    "\n",
    "#Alias -> \n",
    "#you can call libraries as aliases using \"as\". This will allow you to simplify your code and the amount of typing that you\n",
    "#need to do."
   ]
  },
  {
   "cell_type": "code",
   "execution_count": null,
   "id": "0400c90e",
   "metadata": {},
   "outputs": [],
   "source": [
    "#Importing Datasets into python\n",
    "\n",
    "bigfoot = pd.read_csv('bigfoot.csv')\n",
    "%whos"
   ]
  },
  {
   "cell_type": "code",
   "execution_count": null,
   "id": "02d16b52",
   "metadata": {},
   "outputs": [],
   "source": [
    "#Viewing dataframes .head() . tail()\n",
    "\n",
    "bigfoot.head() #default is 5\n",
    "\n",
    "#bigfoot.tail(10) #change the number displayed"
   ]
  },
  {
   "cell_type": "code",
   "execution_count": null,
   "id": "4545ff1d-5f1b-4188-b315-4582c7415875",
   "metadata": {},
   "outputs": [],
   "source": [
    "#viewing data values in dataframe\n",
    "\n",
    "bigfoot.dtypes"
   ]
  },
  {
   "cell_type": "code",
   "execution_count": null,
   "id": "d1ed4a16-557b-474c-afaf-28850121b256",
   "metadata": {},
   "outputs": [],
   "source": [
    "#viewing observations and variables numbers\n",
    "\n",
    "bigfoot.shape"
   ]
  },
  {
   "cell_type": "code",
   "execution_count": null,
   "id": "0116fe89-3931-4a1e-b57b-dd35e43af29f",
   "metadata": {},
   "outputs": [],
   "source": [
    "#viewing the names of variables\n",
    "\n",
    "bigfoot.columns.values"
   ]
  },
  {
   "cell_type": "markdown",
   "id": "f758213b",
   "metadata": {},
   "source": [
    "<h1>Cleaning</h1>\n",
    "\n",
    "<h3>Why would you need to clean data</h3>\n",
    "<ul>\n",
    "    <li>Data in columns and rows are not ordered in the correct way</li>\n",
    "    <li>Creating values or ignoring missing data</li>\n",
    "    <li>Units are not correct or are wrong in some way</li>\n",
    "    <li>Order of magnitude is off</li>\n",
    "    <li>Outliers and skewing of the data</li>\n",
    "    </ul>"
   ]
  },
  {
   "cell_type": "code",
   "execution_count": null,
   "id": "06ebbe5d",
   "metadata": {},
   "outputs": [],
   "source": [
    "#remove all observations with na\n",
    "\n",
    "bigfoot_cleaned = bigfoot.dropna()\n",
    "bigfoot_cleaned.head()"
   ]
  },
  {
   "cell_type": "code",
   "execution_count": null,
   "id": "2a6eb697-5fdd-41e6-9792-35eb1af8b07e",
   "metadata": {},
   "outputs": [],
   "source": [
    "%whos"
   ]
  },
  {
   "cell_type": "code",
   "execution_count": null,
   "id": "723372c2-eef6-4cf6-94a2-40c975c85e01",
   "metadata": {},
   "outputs": [],
   "source": [
    "#replace na values\n",
    "\n",
    "bigfoot.fillna(999, inplace = True)\n",
    "bigfoot.head()"
   ]
  },
  {
   "cell_type": "code",
   "execution_count": null,
   "id": "94c1cde7-fc6d-4e69-8df9-8e4859c1c8e9",
   "metadata": {},
   "outputs": [],
   "source": [
    "#get value counts for a variable\n",
    "\n",
    "bigfoot[\"latitude\"].value_counts()"
   ]
  },
  {
   "cell_type": "markdown",
   "id": "152235c1-3c57-4356-851f-4b68a26a6c3d",
   "metadata": {},
   "source": [
    "<h3>Boolean Operators</h3>\n",
    "<p>Use comparison operators to determine to filter observations in a variable.</p>\n",
    "<ul style>\n",
    "    <li>Equal ( == )</li>\n",
    "    <li>Not equal ( != )</li>\n",
    "    <li>Greater than ( > )</li>\n",
    "    <li>Less than ( < )</li>\n",
    "    <li>Greater than or equal ( >= )</li>\n",
    "    <li>Less than or equal ( <= )</li>\n",
    "    </ul>"
   ]
  },
  {
   "cell_type": "code",
   "execution_count": null,
   "id": "07535c48-c379-4dfe-babb-41af09a93228",
   "metadata": {},
   "outputs": [],
   "source": [
    "#filter observations using boolean operators\n",
    "\n",
    "bigfoot = bigfoot[bigfoot[\"latitude\"]!= 999.00000]\n",
    "bigfoot[\"latitude\"].value_counts()"
   ]
  },
  {
   "cell_type": "markdown",
   "id": "389dcce2-5305-4c31-bf6d-c14c5e18f9cc",
   "metadata": {},
   "source": [
    "can we find the date"
   ]
  },
  {
   "cell_type": "markdown",
   "id": "1fff79ac-4375-4e1c-8afa-26d6b31671da",
   "metadata": {},
   "source": [
    "<h2>Manipulating</h2>\n",
    "<p>fixing data and manipulating varaibles</p>"
   ]
  },
  {
   "cell_type": "code",
   "execution_count": null,
   "id": "3b4bc946",
   "metadata": {},
   "outputs": [],
   "source": [
    "demo = pd.read_csv('demo.csv')\n",
    "demo.columns"
   ]
  },
  {
   "cell_type": "code",
   "execution_count": null,
   "id": "5912cf15",
   "metadata": {},
   "outputs": [],
   "source": [
    "#Recoding\n",
    "\n",
    "#let's use the value_count function to view a variable\n",
    "\n",
    "demo[\"gender\"].value_counts() # what if they are not coded correctly"
   ]
  },
  {
   "cell_type": "code",
   "execution_count": null,
   "id": "f848f1d7",
   "metadata": {},
   "outputs": [],
   "source": [
    "#Changing case values\n",
    "\n",
    "#lower the case with -- demo[\"gender\"].str.lower()\n",
    "\n",
    "#demo[\"gender\"] = demo[\"gender\"].str.lower()\n",
    "\n",
    "demo[\"gender\"] = demo[\"gender\"].str.title()\n",
    "\n",
    "demo[\"gender\"].value_counts()"
   ]
  },
  {
   "cell_type": "code",
   "execution_count": null,
   "id": "009a9b06",
   "metadata": {},
   "outputs": [],
   "source": [
    "#recode\n",
    "\n",
    "#.loc[] allows us to locate values in the variable\n",
    "\n",
    "#str.contains allows us to locate information based on a criteria that we give and then replace it\n",
    "\n",
    "demo.loc[demo[\"gender\"].str.contains(\"F\"), \"gender\"] = \"Female\"\n",
    "demo.loc[demo[\"gender\"].str.contains(\"M\"), \"gender\"] = \"Male\"\n",
    "demo[\"gender\"].value_counts()"
   ]
  },
  {
   "cell_type": "code",
   "execution_count": null,
   "id": "cec9b67a",
   "metadata": {},
   "outputs": [],
   "source": [
    "#subset\n",
    "\n",
    "gender = demo[\"gender\"]\n",
    "gender.head()"
   ]
  },
  {
   "cell_type": "code",
   "execution_count": null,
   "id": "06067a7c",
   "metadata": {},
   "outputs": [],
   "source": [
    "#Subset multiple\n",
    "\n",
    "gender_income = demo[[\"gender\", \"income\"]]\n",
    "gender_income"
   ]
  },
  {
   "cell_type": "code",
   "execution_count": null,
   "id": "3f9a50ed",
   "metadata": {},
   "outputs": [],
   "source": [
    "#filter values\n",
    "\n",
    "above_35 = demo[demo[\"income\"] > 35]\n",
    "above_35.mean()"
   ]
  },
  {
   "cell_type": "code",
   "execution_count": null,
   "id": "2bc93875",
   "metadata": {},
   "outputs": [],
   "source": [
    "#Sort\n",
    "\n",
    "demo.sort_values(by=\"income\")\n",
    "\n",
    "\n",
    "demo.sort_values(by=['income', 'age'], ascending=False).head()"
   ]
  },
  {
   "cell_type": "code",
   "execution_count": null,
   "id": "c90f4730",
   "metadata": {},
   "outputs": [],
   "source": [
    "#Pivot Table\n",
    "\n",
    "demo.pivot_table(\n",
    "    values=\"age\", index=\"inccat\", columns=\"ed\", aggfunc=\"mean\"\n",
    ")"
   ]
  },
  {
   "cell_type": "code",
   "execution_count": null,
   "id": "092b4d7a",
   "metadata": {},
   "outputs": [],
   "source": [
    "#Write\n",
    "\n",
    "demo.to_csv(\"demo_from_python.csv\")"
   ]
  }
 ],
 "metadata": {
  "kernelspec": {
   "display_name": "Python 3 (ipykernel)",
   "language": "python",
   "name": "python3"
  },
  "language_info": {
   "codemirror_mode": {
    "name": "ipython",
    "version": 3
   },
   "file_extension": ".py",
   "mimetype": "text/x-python",
   "name": "python",
   "nbconvert_exporter": "python",
   "pygments_lexer": "ipython3",
   "version": "3.9.12"
  }
 },
 "nbformat": 4,
 "nbformat_minor": 5
}
