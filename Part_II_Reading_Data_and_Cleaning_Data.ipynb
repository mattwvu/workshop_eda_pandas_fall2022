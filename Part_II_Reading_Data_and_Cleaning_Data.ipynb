{
 "cells": [
  {
   "cell_type": "markdown",
   "id": "76eeea75",
   "metadata": {},
   "source": [
    "<h1>Reading and Cleaning Data</h1>\n",
    "<p>In this section we will discuss how to import files into python and how to clean and modify these files. A key point to reading files is to remember that the directory you are working in matters.</p>"
   ]
  },
  {
   "cell_type": "code",
   "execution_count": null,
   "id": "29a1ef4a-3852-4e5f-8d52-2678fe258c10",
   "metadata": {},
   "outputs": [],
   "source": [
    "%whos"
   ]
  },
  {
   "cell_type": "code",
   "execution_count": null,
   "id": "8a6ac75e-b9d5-4eb9-9da6-0e62d9cdd4cb",
   "metadata": {},
   "outputs": [],
   "source": [
    "#calling a library\n",
    "\n",
    "import pandas as pd\n",
    "import numpy as np\n",
    "\n",
    "#Alias -> \n",
    "#you can call libraries as aliases using \"as\". This will allow you to simplify your code and the amount of typing that you\n",
    "#need to do."
   ]
  },
  {
   "cell_type": "markdown",
   "id": "0589d6c8-f8b7-4d80-9064-5f8932aed8aa",
   "metadata": {},
   "source": [
    "<h3> Read Options</h3>\n",
    "<ul><li>read_csv -- Load delimited data from a file, URL, or file-like object; use comma as default delimiter</li>\n",
    "<li>read_fwf -- Read data in fixed-width column format (i.e., no delimiters)</li>\n",
    "<li>read_excel -- Read tabular data from an Excel XLS or XLSX file</li>\n",
    "<li>read_html -- Read all tables found in the given HTML document</li>\n",
    "<li>read_json -- Read data from a JSON (JavaScript Object Notation) string representation, file, URL, or file-like object</li>\n",
    "<li>read_sas -- Read a SAS dataset stored in one of the SAS system’s custom storage formats</li>\n",
    "<li>read_spss -- Read a data file created by SPSS</li>\n",
    "<li>read_stata -- Read a dataset from Stata file format</li>\n",
    "<li>read_xml -- Read a table of data from an XML file</li></ul>"
   ]
  },
  {
   "cell_type": "markdown",
   "id": "c9ce2927-3460-466e-b14c-0b02f53209e1",
   "metadata": {},
   "source": [
    "<h3>ICPSR Example</h3>\n",
    "<ul><li><a href =\"https://databases.lib.wvu.edu/connect/1360614561\">ICPSR -Inter-University Consortium for Political and Social Research</a></li></ul>"
   ]
  },
  {
   "cell_type": "code",
   "execution_count": null,
   "id": "423ae9be-9f24-4326-8d6b-2c9a9564a89e",
   "metadata": {},
   "outputs": [],
   "source": [
    "anes_2020 = pd.read_spss(\"38034-0001-Data.sav\")\n",
    "anes_2020"
   ]
  },
  {
   "cell_type": "code",
   "execution_count": null,
   "id": "0400c90e",
   "metadata": {},
   "outputs": [],
   "source": [
    "#Importing Datasets into python\n",
    "\n",
    "bigfoot = pd.read_csv('bigfoot.csv')\n",
    "%whos"
   ]
  },
  {
   "cell_type": "code",
   "execution_count": null,
   "id": "02d16b52",
   "metadata": {},
   "outputs": [],
   "source": [
    "#Viewing dataframes .head() . tail()\n",
    "\n",
    "bigfoot.head() #default is 5\n",
    "\n",
    "#bigfoot.tail(10) #change the number displayed"
   ]
  },
  {
   "cell_type": "code",
   "execution_count": null,
   "id": "4545ff1d-5f1b-4188-b315-4582c7415875",
   "metadata": {},
   "outputs": [],
   "source": [
    "#viewing data values in dataframe\n",
    "\n",
    "bigfoot.dtypes"
   ]
  },
  {
   "cell_type": "code",
   "execution_count": null,
   "id": "aea0d2be-db34-410a-a4be-4b1df3821891",
   "metadata": {},
   "outputs": [],
   "source": [
    "#look as basic information about the dataframe with info()\n",
    "\n",
    "bigfoot.info()"
   ]
  },
  {
   "cell_type": "code",
   "execution_count": null,
   "id": "d1ed4a16-557b-474c-afaf-28850121b256",
   "metadata": {},
   "outputs": [],
   "source": [
    "#viewing observations and variables numbers\n",
    "\n",
    "bigfoot.shape"
   ]
  },
  {
   "cell_type": "code",
   "execution_count": null,
   "id": "0116fe89-3931-4a1e-b57b-dd35e43af29f",
   "metadata": {},
   "outputs": [],
   "source": [
    "#viewing the names of variables\n",
    "\n",
    "bigfoot.columns.values"
   ]
  },
  {
   "cell_type": "markdown",
   "id": "f758213b",
   "metadata": {},
   "source": [
    "<h1>Cleaning</h1>\n",
    "\n",
    "<h3>Why would you need to clean data</h3>\n",
    "<ul>\n",
    "    <li>Data in columns and rows are not ordered in the correct way</li>\n",
    "    <li>Creating values or ignoring missing data</li>\n",
    "    <li>Units are not correct or are wrong in some way</li>\n",
    "    <li>Order of magnitude is off</li>\n",
    "    <li>Outliers and skewing of the data</li>\n",
    "    </ul>"
   ]
  },
  {
   "cell_type": "code",
   "execution_count": null,
   "id": "f2cf18f5-6c40-4368-b7e7-e64f19bd45e1",
   "metadata": {},
   "outputs": [],
   "source": [
    "#check for missing data\n",
    "\n",
    "bigfoot.isna()"
   ]
  },
  {
   "cell_type": "code",
   "execution_count": null,
   "id": "06ebbe5d",
   "metadata": {},
   "outputs": [],
   "source": [
    "#remove all observations with na\n",
    "\n",
    "bigfoot_cleaned = bigfoot.dropna()\n",
    "bigfoot_cleaned.head()"
   ]
  },
  {
   "cell_type": "code",
   "execution_count": null,
   "id": "2a6eb697-5fdd-41e6-9792-35eb1af8b07e",
   "metadata": {},
   "outputs": [],
   "source": [
    "%whos"
   ]
  },
  {
   "cell_type": "code",
   "execution_count": null,
   "id": "723372c2-eef6-4cf6-94a2-40c975c85e01",
   "metadata": {},
   "outputs": [],
   "source": [
    "#replace na values\n",
    "\n",
    "bigfoot.fillna(-999, inplace = True)\n",
    "bigfoot.head()"
   ]
  },
  {
   "cell_type": "code",
   "execution_count": null,
   "id": "94c1cde7-fc6d-4e69-8df9-8e4859c1c8e9",
   "metadata": {},
   "outputs": [],
   "source": [
    "#get value counts for a variable\n",
    "\n",
    "bigfoot[\"date\"].value_counts()"
   ]
  },
  {
   "cell_type": "markdown",
   "id": "152235c1-3c57-4356-851f-4b68a26a6c3d",
   "metadata": {},
   "source": [
    "<h3>Boolean Operators</h3>\n",
    "<p>Use comparison operators to determine to filter observations in a variable.</p>\n",
    "<ul style>\n",
    "    <li>Equal ( == )</li>\n",
    "    <li>Not equal ( != )</li>\n",
    "    <li>Greater than ( > )</li>\n",
    "    <li>Less than ( < )</li>\n",
    "    <li>Greater than or equal ( >= )</li>\n",
    "    <li>Less than or equal ( <= )</li>\n",
    "    </ul>"
   ]
  },
  {
   "cell_type": "code",
   "execution_count": null,
   "id": "07535c48-c379-4dfe-babb-41af09a93228",
   "metadata": {},
   "outputs": [],
   "source": [
    "#filter observations using boolean operators\n",
    "\n",
    "bigfoot = bigfoot[bigfoot[\"date\"]!= -999]\n",
    "bigfoot[\"date\"].value_counts()"
   ]
  },
  {
   "cell_type": "code",
   "execution_count": null,
   "id": "725d334a-f4f3-431c-82ff-91df4a450dfc",
   "metadata": {},
   "outputs": [],
   "source": [
    "bigfoot.dtypes"
   ]
  },
  {
   "cell_type": "code",
   "execution_count": null,
   "id": "ec6d6ff4-d6ca-4455-941e-5ca9a7d5a7fb",
   "metadata": {},
   "outputs": [],
   "source": [
    "#relabel values as datetime\n",
    "\n",
    "bigfoot[\"date\"] = pd.to_datetime(bigfoot[\"date\"])\n",
    "bigfoot.dtypes"
   ]
  },
  {
   "cell_type": "code",
   "execution_count": null,
   "id": "4038b39f-0b95-4ade-b375-cff74b75d715",
   "metadata": {},
   "outputs": [],
   "source": [
    "#relable values as categorical\n",
    "\n",
    "bigfoot[\"season\"] = pd.Categorical(bigfoot[\"season\"], ordered=False)\n",
    "bigfoot.dtypes\n",
    "bigfoot[\"season\"]"
   ]
  },
  {
   "cell_type": "markdown",
   "id": "1fff79ac-4375-4e1c-8afa-26d6b31671da",
   "metadata": {},
   "source": [
    "<h2>Manipulating</h2>\n",
    "<p>fixing data and manipulating varaibles</p>"
   ]
  },
  {
   "cell_type": "code",
   "execution_count": null,
   "id": "3b4bc946",
   "metadata": {},
   "outputs": [],
   "source": [
    "demo = pd.read_csv('demo.csv')\n",
    "demo.columns"
   ]
  },
  {
   "cell_type": "code",
   "execution_count": null,
   "id": "5912cf15",
   "metadata": {},
   "outputs": [],
   "source": [
    "#Recoding\n",
    "\n",
    "#let's use the value_count function to view a variable\n",
    "\n",
    "demo[\"gender\"].value_counts() # what if they are not coded correctly"
   ]
  },
  {
   "cell_type": "code",
   "execution_count": null,
   "id": "7de66581-04a1-4386-a384-5f3eac1e0514",
   "metadata": {},
   "outputs": [],
   "source": [
    "#use replace to recode variables\n",
    "\n",
    "demo[\"gender\"] = demo[\"gender\"].replace([\"m\", \"f\"], [\"Male\", \"Female\"])\n",
    "demo[\"gender\"] = demo[\"gender\"].replace([\"male\", \"female\"], [\"Male\", \"Female\"])"
   ]
  },
  {
   "cell_type": "code",
   "execution_count": null,
   "id": "cec9b67a",
   "metadata": {},
   "outputs": [],
   "source": [
    "#create an array by subsetting\n",
    "\n",
    "gender = demo[\"gender\"]\n",
    "gender.head()"
   ]
  },
  {
   "cell_type": "code",
   "execution_count": null,
   "id": "06067a7c",
   "metadata": {},
   "outputs": [],
   "source": [
    "#create a new dataframe with selected variables by subsetting\n",
    "\n",
    "gender_income = demo[[\"gender\", \"income\"]]\n",
    "gender_income"
   ]
  },
  {
   "cell_type": "code",
   "execution_count": null,
   "id": "3f9a50ed",
   "metadata": {},
   "outputs": [],
   "source": [
    "#filter values\n",
    "\n",
    "above_35 = demo[demo[\"income\"] > 35]\n",
    "above_35.mean()"
   ]
  },
  {
   "cell_type": "code",
   "execution_count": null,
   "id": "443ca070-c0eb-4b2b-a671-b4412ee56353",
   "metadata": {
    "tags": []
   },
   "outputs": [],
   "source": [
    "#bin values\n",
    "\n",
    "bins = [18, 25, 35, 60, 100]\n",
    "\n",
    "demo[\"aged_binned\"] = pd.cut(demo[\"age\"], bins)"
   ]
  },
  {
   "cell_type": "code",
   "execution_count": null,
   "id": "14617638-ee53-4157-95a5-1f9852642092",
   "metadata": {},
   "outputs": [],
   "source": [
    "#sample variable\n",
    "\n",
    "sample_age = np.random.permutation(demo[\"age\"])\n",
    "sample_age.mean()"
   ]
  },
  {
   "cell_type": "code",
   "execution_count": null,
   "id": "c09f2c02-46dc-4970-8620-63da96071943",
   "metadata": {},
   "outputs": [],
   "source": [
    "#sample dataframe\n",
    "\n",
    "demo_sample = demo.sample(n=500)\n",
    "demo_sample.describe()"
   ]
  },
  {
   "cell_type": "code",
   "execution_count": null,
   "id": "f7a39e23-ccb6-48e6-813e-80cc9d4bcbcd",
   "metadata": {},
   "outputs": [],
   "source": [
    "#dummy variables\n",
    "\n",
    "season_dummies = pd.get_dummies(bigfoot[\"season\"], prefix=\"season\")\n",
    "season_dummies"
   ]
  },
  {
   "cell_type": "code",
   "execution_count": null,
   "id": "c5772378-be59-48a4-b872-9a509d40937c",
   "metadata": {},
   "outputs": [],
   "source": [
    "#add dummies to dataframe\n",
    "\n",
    "bigfoot_dummies = bigfoot.join(season_dummies)\n",
    "bigfoot_dummies"
   ]
  },
  {
   "cell_type": "code",
   "execution_count": null,
   "id": "2bc93875",
   "metadata": {},
   "outputs": [],
   "source": [
    "#Sort\n",
    "\n",
    "demo.sort_values(by=\"income\")\n",
    "\n",
    "\n",
    "demo.sort_values(by=['income', 'age'], ascending=False).head()"
   ]
  },
  {
   "cell_type": "code",
   "execution_count": null,
   "id": "c90f4730",
   "metadata": {},
   "outputs": [],
   "source": [
    "#Pivot Table\n",
    "\n",
    "demo.pivot_table(\n",
    "    values=\"age\", index=\"inccat\", columns=\"ed\", aggfunc=\"mean\"\n",
    ")"
   ]
  },
  {
   "cell_type": "code",
   "execution_count": null,
   "id": "092b4d7a",
   "metadata": {},
   "outputs": [],
   "source": [
    "#Write\n",
    "\n",
    "demo.to_csv(\"demo_from_python.csv\")"
   ]
  }
 ],
 "metadata": {
  "kernelspec": {
   "display_name": "Python 3 (ipykernel)",
   "language": "python",
   "name": "python3"
  },
  "language_info": {
   "codemirror_mode": {
    "name": "ipython",
    "version": 3
   },
   "file_extension": ".py",
   "mimetype": "text/x-python",
   "name": "python",
   "nbconvert_exporter": "python",
   "pygments_lexer": "ipython3",
   "version": "3.9.12"
  }
 },
 "nbformat": 4,
 "nbformat_minor": 5
}
