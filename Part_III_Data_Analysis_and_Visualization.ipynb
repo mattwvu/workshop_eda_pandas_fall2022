{
 "cells": [
  {
   "cell_type": "markdown",
   "id": "b2978bd8",
   "metadata": {},
   "source": [
    "<h1>Data Analysis</h1>\n"
   ]
  },
  {
   "cell_type": "markdown",
   "id": "abc945e5",
   "metadata": {},
   "source": [
    "<h3>Learn more about your dataset</h3>\n",
    "<ul>\n",
    "    <li>.shape( ) -> structure of your dataframe</li>\n",
    "    <li>.dtypes( ) -> types of data for the variables</li>\n",
    "    <li>.describe( ) -> descriptive statistics on the dataframe</li>\n",
    "    </ul>"
   ]
  },
  {
   "cell_type": "code",
   "execution_count": null,
   "id": "ee587b1f",
   "metadata": {},
   "outputs": [],
   "source": [
    "import pandas as pd"
   ]
  },
  {
   "cell_type": "code",
   "execution_count": null,
   "id": "94503487-6814-4563-9254-31babae0549b",
   "metadata": {},
   "outputs": [],
   "source": [
    "demo = pd.read_csv('demo_from_python.csv')"
   ]
  },
  {
   "cell_type": "code",
   "execution_count": null,
   "id": "701a3c3c",
   "metadata": {},
   "outputs": [],
   "source": [
    "demo.dtypes\n",
    "#demo.shape\n",
    "#demo.describe()\n",
    "#demo.mean()\n",
    "#demo.median()\n",
    "#demo.mode()"
   ]
  },
  {
   "cell_type": "code",
   "execution_count": null,
   "id": "9d8eb421",
   "metadata": {},
   "outputs": [],
   "source": [
    "#Groupby\n",
    "\n",
    "demo[[\"income\", \"gender\"]].groupby(\"gender\").mean()"
   ]
  },
  {
   "cell_type": "markdown",
   "id": "992f746c",
   "metadata": {},
   "source": [
    "<h1>Data Visualization</h1>"
   ]
  },
  {
   "cell_type": "code",
   "execution_count": null,
   "id": "6dc62ac7",
   "metadata": {},
   "outputs": [],
   "source": [
    "import pandas as pd\n",
    "\n",
    "import matplotlib.pyplot as plt\n",
    "\n",
    "import seaborn as sns"
   ]
  },
  {
   "cell_type": "markdown",
   "id": "27b20d90-df53-429d-85df-17a3de8e91e3",
   "metadata": {},
   "source": [
    "<h2>MatPlotLib</h2>\n",
    "<ul><li><a href=\"https://matplotlib.org/\">MatPLotLib Documentation</a></ul></li>"
   ]
  },
  {
   "cell_type": "markdown",
   "id": "6bd35e22-7f47-4ce8-bec9-6382bf0c3a3f",
   "metadata": {},
   "source": [
    "<h3>Line Plot with MatPlotLib</h3>\n",
    "<ul><li><a href=\"https://matplotlib.org/stable/api/_as_gen/matplotlib.axes.Axes.plot.html#matplotlib.axes.Axes.plot\">Line plot documentation</a></li></ul>"
   ]
  },
  {
   "cell_type": "code",
   "execution_count": null,
   "id": "e59dbdb3",
   "metadata": {},
   "outputs": [],
   "source": [
    "#Approval\n",
    "\n",
    "biden_approval = pd.read_csv(\"approval_topline_biden_2021.csv\", index_col=0, parse_dates=True)\n",
    "\n",
    "biden_approval.head()\n"
   ]
  },
  {
   "cell_type": "code",
   "execution_count": null,
   "id": "02c46a82",
   "metadata": {},
   "outputs": [],
   "source": [
    "#use plot to call the line plot shape\n",
    "\n",
    "biden_approval.plot()\n",
    "\n",
    "#biden_approval.plot(x=\"modeldate\")"
   ]
  },
  {
   "cell_type": "code",
   "execution_count": null,
   "id": "2a729081-c436-4e1d-8e40-a4ea2f6d26b3",
   "metadata": {},
   "outputs": [],
   "source": [
    "#give it an X axis value\n",
    "\n",
    "biden_approval.plot(x=\"modeldate\")"
   ]
  },
  {
   "cell_type": "code",
   "execution_count": null,
   "id": "8bc19bf6-c0d3-4e60-af16-ec85fe177596",
   "metadata": {},
   "outputs": [],
   "source": [
    "#add a y axis value, color, and other flourishes\n",
    "\n",
    "biden_approval.plot(x=\"modeldate\", y=\"approve_estimate\",\n",
    "                   color = \"red\", \n",
    "                   linewidth=.75,\n",
    "                   xlabel=\"date\", ylabel=\"approval\", title=\"Joe Biden Approval Rating\")\n",
    "\n",
    "##exporting\n",
    "plt.savefig(\"bidenapproval.png\")"
   ]
  },
  {
   "cell_type": "markdown",
   "id": "f8609b1d",
   "metadata": {},
   "source": [
    "<h2>Seaborn</h2>\n",
    "<p><a href=\"https://seaborn.pydata.org/\">https://seaborn.pydata.org/</a></p>"
   ]
  },
  {
   "cell_type": "code",
   "execution_count": null,
   "id": "9c38ce67",
   "metadata": {},
   "outputs": [],
   "source": [
    "import numpy as np\n",
    "import pandas as pd\n",
    "import matplotlib.pyplot as plt\n",
    "import seaborn as sns\n",
    "sns.set_theme(style=\"darkgrid\")\n"
   ]
  },
  {
   "cell_type": "markdown",
   "id": "7761cbce-4de6-486b-b263-8f79b2002c86",
   "metadata": {},
   "source": [
    "<h3>Bar Graph</h3>"
   ]
  },
  {
   "cell_type": "code",
   "execution_count": null,
   "id": "d23dcb58",
   "metadata": {},
   "outputs": [],
   "source": [
    "bigfoot = pd.read_csv(\"bigfoot.csv\")\n",
    "bigfoot = bigfoot[bigfoot[\"season\"]!= \"Unknown\"]\n",
    "bigfoot[\"season\"].value_counts()"
   ]
  },
  {
   "cell_type": "code",
   "execution_count": null,
   "id": "8f7744ed-576a-4704-8d48-b68092586147",
   "metadata": {},
   "outputs": [],
   "source": [
    "bigfoot.head()"
   ]
  },
  {
   "cell_type": "code",
   "execution_count": null,
   "id": "d5705e68",
   "metadata": {},
   "outputs": [],
   "source": [
    "bf_count = sns.countplot(data=bigfoot, x=\"season\")\n",
    "\n",
    "bf_count.set(xlabel=\"Season\", title=\"Bigfoot Sightings by Season\", ylabel=None)"
   ]
  },
  {
   "cell_type": "markdown",
   "id": "ef0c7470-4250-44b5-8b70-a19f2342afe0",
   "metadata": {},
   "source": [
    "<h3>Histogram</h3>"
   ]
  },
  {
   "cell_type": "code",
   "execution_count": null,
   "id": "a198a636-4741-4f69-bd22-30f2d0d64e64",
   "metadata": {},
   "outputs": [],
   "source": [
    "demo.head()"
   ]
  },
  {
   "cell_type": "code",
   "execution_count": null,
   "id": "c9c973c0",
   "metadata": {},
   "outputs": [],
   "source": [
    "#histogram by age\n",
    "\n",
    "sns.displot(demo, x=\"age\")"
   ]
  },
  {
   "cell_type": "code",
   "execution_count": null,
   "id": "5ae813ca-9ecd-4054-9855-e0759d614abd",
   "metadata": {},
   "outputs": [],
   "source": [
    "#add bins by defining number of bins\n",
    "\n",
    "sns.displot(demo, x=\"age\", bins=5)"
   ]
  },
  {
   "cell_type": "code",
   "execution_count": null,
   "id": "bb577fa7",
   "metadata": {},
   "outputs": [],
   "source": [
    "#add bins and define length of bin\n",
    "\n",
    "sns.displot(demo, x=\"age\", binwidth=5)"
   ]
  },
  {
   "cell_type": "code",
   "execution_count": null,
   "id": "30deaa61",
   "metadata": {},
   "outputs": [],
   "source": [
    "#add categorical variables\n",
    "\n",
    "sns.displot(demo, x=\"age\", hue=\"inccat\")"
   ]
  },
  {
   "cell_type": "code",
   "execution_count": null,
   "id": "499413af-cbb8-444d-976a-46de044c5131",
   "metadata": {},
   "outputs": [],
   "source": [
    "demo.head()"
   ]
  },
  {
   "cell_type": "code",
   "execution_count": null,
   "id": "3a449150",
   "metadata": {},
   "outputs": [],
   "source": [
    "sns.relplot(data=demo, x=\"age\", y=\"car\", hue = \"marital\", row = \"gender\")"
   ]
  }
 ],
 "metadata": {
  "kernelspec": {
   "display_name": "Python 3 (ipykernel)",
   "language": "python",
   "name": "python3"
  },
  "language_info": {
   "codemirror_mode": {
    "name": "ipython",
    "version": 3
   },
   "file_extension": ".py",
   "mimetype": "text/x-python",
   "name": "python",
   "nbconvert_exporter": "python",
   "pygments_lexer": "ipython3",
   "version": "3.9.12"
  }
 },
 "nbformat": 4,
 "nbformat_minor": 5
}
