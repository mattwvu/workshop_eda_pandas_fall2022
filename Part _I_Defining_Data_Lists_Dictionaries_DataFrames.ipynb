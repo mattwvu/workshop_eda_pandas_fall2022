{
 "cells": [
  {
   "cell_type": "markdown",
   "id": "ff6a5a20",
   "metadata": {},
   "source": [
    "<h1>Welcome to Data Analysis and Visualization using Python Workshop</h1>\n",
    "<p>In this workshop we will learn the fundamentals of entering, analyzing, and visualizing data using the programming language software package, Python.</p>\n",
    "<ul><li>Link to workshops - <a href=\"https://library.wvu.edu/research-help/workshops\">https://library.wvu.edu/research-help/workshops</a></li><li>This workshop was developed using tutorials from O'Reilly's Learning Platform - <a href=\"https://databases.lib.wvu.edu/connect/1540334373\">https://databases.lib.wvu.edu/connect/1540334373</a></li>\n",
    "</ul>\n",
    "\n",
    "<h3>Overview</h3>\n",
    "<ul>\n",
    "    <li>Entering your data [lists, dictionaries, series dataframes]</li>\n",
    "    <li>Reading datasets and cleaning data</li>\n",
    "    <li>Analyzing and visualizing data</li>\n",
    "       </ul>"
   ]
  },
  {
   "cell_type": "markdown",
   "id": "0ba77075-c6a3-4dcb-b7bc-f0fdf45036b5",
   "metadata": {},
   "source": [
    "<h2>Sequence Types (Lists, Tupples, Ranges)</h2>\n",
    "<p>ordered sets that we can enter and retrieve information from.</p>\n",
    "<ul><li><a href = \"https://docs.python.org/3/library/stdtypes.html#sequence-types-list-tuple-range\">Python Documentation - Sequence Types</a></li></ul>"
   ]
  },
  {
   "cell_type": "markdown",
   "id": "21b3d912-0dfe-4614-9011-57648cf87602",
   "metadata": {},
   "source": [
    "<h3>Lists</h3>\n",
    "<p>Lists are used to store multiple items in a single variable. Lists are one of 4 built-in data types in Python used to store collections of data, the other 3 are Tuple, Set, and Dictionary, all with different qualities and usage.</p>\n",
    "<p>named_varible = [\"item1\", \"item2\", \"item3\"]</p>"
   ]
  },
  {
   "cell_type": "code",
   "execution_count": null,
   "id": "6e07f5c8",
   "metadata": {},
   "outputs": [],
   "source": [
    "#List integer\n",
    "\n",
    "my_var = [1, 2, 3, 4]\n",
    "print(my_var)\n",
    "type(my_var)"
   ]
  },
  {
   "cell_type": "code",
   "execution_count": null,
   "id": "eab9b933",
   "metadata": {},
   "outputs": [],
   "source": [
    "#List string\n",
    "\n",
    "cities = [\"Morgantown\", \"Charleston\", \"Reedsville\", \"Huntington\"] \n",
    "\n",
    "print(cities)\n",
    "type(cities)"
   ]
  },
  {
   "cell_type": "code",
   "execution_count": null,
   "id": "ac362837",
   "metadata": {},
   "outputs": [],
   "source": [
    "print(f'The top {len(cities)} cities in West Virginia:')\n",
    "print(cities)"
   ]
  },
  {
   "cell_type": "code",
   "execution_count": null,
   "id": "c93a3e6d",
   "metadata": {},
   "outputs": [],
   "source": [
    "#Indexing\n",
    "#method returns the position at the first occurrence of the specified value.\n",
    "#syntax []\n",
    "\n",
    "cities [0] #numbered order starts at 0\n",
    "#force an error messages with print(cities[4])\n",
    "\n",
    "#cities [0:2] #range\n"
   ]
  },
  {
   "cell_type": "code",
   "execution_count": null,
   "id": "fd5f2889",
   "metadata": {},
   "outputs": [],
   "source": [
    "#Adding and removing items to a list .append and .remove\n",
    "\n",
    "cities.append(\"Logan's Run\")\n",
    "cities\n",
    "\n",
    "#remove\n",
    "#cities.remove(\"Logan's Run\")\n",
    "#cities"
   ]
  },
  {
   "cell_type": "code",
   "execution_count": null,
   "id": "7754153a",
   "metadata": {},
   "outputs": [],
   "source": [
    "#What is \"in\" your list\n",
    "\n",
    "len(cities)\n",
    "\n",
    "#\"Morgantown\" in cities"
   ]
  },
  {
   "cell_type": "code",
   "execution_count": null,
   "id": "d3e4810e",
   "metadata": {},
   "outputs": [],
   "source": [
    "#Running a for loop on list\n",
    "\n",
    "word = input(\"Type a word:\")\n",
    "num_vowels = 0\n",
    "\n",
    "for letter in word:\n",
    "    if letter in [\"a\", \"e\", \"i\", \"o\", \"u\"]:\n",
    "        num_vowels += 1\n",
    "        \n",
    "print('There are {} vowels in \"{}\"'.format(num_vowels, word))"
   ]
  },
  {
   "cell_type": "markdown",
   "id": "d73a097e",
   "metadata": {},
   "source": [
    "<h2>Functions in Standard Python that are similiar to lists</h2>\n",
    "<ul>\n",
    "    <li>Tupples -> A tuple is a collection which is ordered and unchangeable. Tuples are written with round brackets().</li>\n",
    "    <ul><li>(_)</li>\n",
    "    </ul>\n",
    "    <li>Sets -> A set is a collection which is unordered, unchangeable, and unindexed. Sets are written with curly brackets.</li>\n",
    "    <ul><li>{_}</li>\n",
    "    </ul>\n",
    "    <li>Dictionaries -> A dictionary is a collection which is ordered*, changeable and does not allow duplicates. Dictionaries are written with curly brackets, and have keys and values.</li>\n",
    "    <ul><li>{key1: value1, key2: value2, key3:value3 }</li>\n",
    "    </ul>\n",
    "    </ul>\n",
    "    "
   ]
  },
  {
   "cell_type": "code",
   "execution_count": null,
   "id": "5164c55e",
   "metadata": {},
   "outputs": [],
   "source": [
    "#dictionaires\n",
    "#one-domensional key-value list\n",
    "\n",
    "country_roads = {\"Morgantown\": 30847, \"Charlestown\": 45879, \"Reedsville\": 603, \"Huntington\": 44934}\n",
    "print(country_roads)\n",
    "#print(country_roads[\"Reedsville\"])"
   ]
  },
  {
   "cell_type": "code",
   "execution_count": null,
   "id": "946e1029",
   "metadata": {},
   "outputs": [],
   "source": [
    "#add to dictionary\n",
    "\n",
    "country_roads[\"Westover\"]  = 4220\n",
    "country_roads"
   ]
  },
  {
   "cell_type": "markdown",
   "id": "8d177b24",
   "metadata": {},
   "source": [
    "<h1>Data science libraries in Python</h1>\n",
    "<p>Listed below are the major libraries that provide built-in functions, methods, and constants that are important for doing data science analysis. Each library has a website with documentation (remember the Python Standard Library) that is great for reference and tutorials.</p>\n",
    "<h3>Storage, Manipulations, Calculations</h3>\n",
    "<ul>\n",
    "    <li><a href =\"https://numpy.org/\">Numpy</a></li>\n",
    "    <li><a href =\"https://pandas.pydata.org/\">Pandas</a></li>\n",
    "    <li><a href=\"https://www.scipy.org/scipylib/index.html\">Scipy</a></li>\n",
    "    <li><a href=\"https://www.statsmodels.org/stable/index.html\">StatsModels</a></li>\n",
    "    </ul>\n",
    " <h3>Vizualization</h3>\n",
    " <ul>\n",
    "    <li><a href=\"https://matplotlib.org/\">Matplotlib</a></li>\n",
    "    <li><a href =\"https://bokeh.org/\">Bokeh</a></li>\n",
    "    </ul>\n",
    "<h3>Machine Learning</h3>\n",
    "  <ul>\n",
    "    <li><a href =\"https://scikit-learn.org/stable/\">SciKit</a></li>\n",
    "    <li><a href=\"https://www.tensorflow.org/\">TensorFlow</a></li>\n",
    "    <li><a href = \"https://keras.io/\">Keras</a></li>\n",
    "    </ul>"
   ]
  },
  {
   "cell_type": "markdown",
   "id": "c8f40455",
   "metadata": {},
   "source": [
    "<h2>Pandas</h2>"
   ]
  },
  {
   "cell_type": "code",
   "execution_count": null,
   "id": "d2c6ef28",
   "metadata": {},
   "outputs": [],
   "source": [
    "#calling a library\n",
    "\n",
    "import pandas as pd\n",
    "\n",
    "#Alias -> \n",
    "#you can call libraries as aliases using \"as\". This will allow you to simplify your code and the amount of typing that you\n",
    "#need to do."
   ]
  },
  {
   "cell_type": "code",
   "execution_count": null,
   "id": "ca6f1ce0",
   "metadata": {},
   "outputs": [],
   "source": [
    "country_roads"
   ]
  },
  {
   "cell_type": "markdown",
   "id": "7eaf9c1a",
   "metadata": {},
   "source": [
    "<h2>Series in Pandas</h2>\n",
    "<p>Like a dictionary in the standard library, a series allows you to store key-value pairs in python.</p>\n",
    "<ul><li><a href =\"https://pandas.pydata.org/docs/reference/api/pandas.Series.html\">Pandas Documentation - Series</a></li></ul>"
   ]
  },
  {
   "cell_type": "code",
   "execution_count": null,
   "id": "3d3ef7cc",
   "metadata": {},
   "outputs": [],
   "source": [
    "#series - A Pandas Series is like a column in a table. It is a one-dimensional array holding data of any type.\n",
    "\n",
    "wvu_towns = pd.Series(country_roads)\n",
    "\n",
    "wvu_towns"
   ]
  },
  {
   "cell_type": "markdown",
   "id": "c2f7c001",
   "metadata": {},
   "source": [
    "<h2>Data Frames</h2>\n",
    "<p>Dataframes are 2 dimensional data structures containing key-value pairs."
   ]
  },
  {
   "cell_type": "code",
   "execution_count": null,
   "id": "e998b1a1",
   "metadata": {},
   "outputs": [],
   "source": [
    "pres_electoral = {\"Date\": [1980, 1984, 1988, 1992, 1996, 2000, 2004, 2008, 2012, 2016, 2020], \n",
    "                  \"Republican\": [489, 525, 426, 168, 159, 271, 286, 173, 206, 304, 232],\n",
    "                  \"Democrat\": [49, 14, 111, 370, 379, 266, 251, 365, 332, 227, 306],\n",
    "                  \"Winner\": [\"Reagan\", \"Reagan\", \"Bush\", \"Clinton\", \"Clinton\", \"Bush\", \"Bush\", \"Obama\", \"Obama\", \"Trump\", \"Biden\"]\n",
    "                    }\n",
    "\n",
    "pres_electoral_df = pd.DataFrame(pres_electoral)\n",
    "\n",
    "pres_electoral_df"
   ]
  },
  {
   "cell_type": "code",
   "execution_count": null,
   "id": "9e0bd15d",
   "metadata": {},
   "outputs": [],
   "source": [
    "#Indexing\n",
    "\n",
    "print(pres_electoral_df[\"Winner\"])"
   ]
  },
  {
   "cell_type": "code",
   "execution_count": null,
   "id": "d8b2d3f7-5074-4a78-8fdd-a947275a30d9",
   "metadata": {},
   "outputs": [],
   "source": [
    "#view data values for variables\n",
    "\n",
    "pres_electoral_df.dtypes"
   ]
  },
  {
   "cell_type": "code",
   "execution_count": null,
   "id": "1d86af9a-daee-4c0f-8325-18327cb87dbf",
   "metadata": {},
   "outputs": [],
   "source": [
    "#subsetting\n",
    "\n",
    "pres_electoral_df.Date = str(pres_electoral_df.Date)"
   ]
  },
  {
   "cell_type": "code",
   "execution_count": null,
   "id": "1550c6e8-d796-4689-bf0e-50f81e7c3e0b",
   "metadata": {},
   "outputs": [],
   "source": [
    "#retrieve descriptive statistics about the dataframe\n",
    "\n",
    "pres_electoral_df.mean()"
   ]
  },
  {
   "cell_type": "code",
   "execution_count": null,
   "id": "a6824061-ad74-4248-a8b0-afbbe47f6ffa",
   "metadata": {},
   "outputs": [],
   "source": [
    "#retrieve descriptive statistics of a variable using subsetting\n",
    "\n",
    "pres_electoral_df[\"Republican\"].median()"
   ]
  }
 ],
 "metadata": {
  "kernelspec": {
   "display_name": "Python 3 (ipykernel)",
   "language": "python",
   "name": "python3"
  },
  "language_info": {
   "codemirror_mode": {
    "name": "ipython",
    "version": 3
   },
   "file_extension": ".py",
   "mimetype": "text/x-python",
   "name": "python",
   "nbconvert_exporter": "python",
   "pygments_lexer": "ipython3",
   "version": "3.9.12"
  }
 },
 "nbformat": 4,
 "nbformat_minor": 5
}
